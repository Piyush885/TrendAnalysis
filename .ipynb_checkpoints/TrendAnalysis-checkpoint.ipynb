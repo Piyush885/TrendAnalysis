{
 "cells": [
  {
   "cell_type": "code",
   "execution_count": 1,
   "id": "2c88b607",
   "metadata": {},
   "outputs": [],
   "source": [
    "import pandas as pd\n",
    "import numpy as np\n",
    "import matplotlib\n",
    "import nltk\n",
    "from nltk.corpus import stopwords\n",
    "# from sklearn.feature_extraction.text import CountVectorizer\n",
    "# from gensim import corpora, models\n",
    "from bertopic import BERTopic"
   ]
  },
  {
   "cell_type": "code",
   "execution_count": 2,
   "id": "80eabc72",
   "metadata": {},
   "outputs": [],
   "source": [
    "nltk.download(\"stopwords\")\n",
    "stopwords = set(stopwords.words('english'))"
   ]
  },
  {
   "cell_type": "code",
   "execution_count": 3,
   "id": "f5c14685",
   "metadata": {},
   "outputs": [],
   "source": [
    "from nltk.tokenize import word_tokenize\n",
    "from nltk.stem import WordNetLemmatizer"
   ]
  },
  {
   "cell_type": "code",
   "execution_count": 4,
   "id": "1177faed",
   "metadata": {},
   "outputs": [],
   "source": [
    "nltk.download('punkt')\n",
    "nltk.download('wordnet')"
   ]
  },
  {
   "cell_type": "code",
   "execution_count": 5,
   "id": "94b0e083",
   "metadata": {},
   "outputs": [],
   "source": [
    "df2 = pd.read_excel(\"newdata.xlsx\")\n",
    "df = pd.read_csv(\"My Library sorted 2000 use.csv\")"
   ]
  },
  {
   "cell_type": "code",
   "execution_count": 6,
   "id": "4405b518",
   "metadata": {},
   "outputs": [],
   "source": [
    "df.columns"
   ]
  },
  {
   "cell_type": "code",
   "execution_count": 7,
   "id": "41cbd139",
   "metadata": {},
   "outputs": [],
   "source": [
    "def tokenize_and_lemmatize(text):\n",
    "    tokens = word_tokenize(text)  # Tokenize sentence into words\n",
    "    lemmatizer = WordNetLemmatizer()\n",
    "    lemmas = [lemmatizer.lemmatize(token.lower()) for token in tokens if token.lower() not in stopwords]  # Lemmatize tokens and remove stopwords\n",
    "    return lemmas\n"
   ]
  },
  {
   "cell_type": "code",
   "execution_count": 8,
   "id": "dc1555e7",
   "metadata": {},
   "outputs": [],
   "source": [
    "\n",
    "df['lemmas'] = df['Abstract Note'].apply(tokenize_and_lemmatize)"
   ]
  },
  {
   "cell_type": "code",
   "execution_count": 9,
   "id": "acc801bc",
   "metadata": {},
   "outputs": [],
   "source": [
    "df['lemmas']"
   ]
  },
  {
   "cell_type": "code",
   "execution_count": 10,
   "id": "eb79e4b6",
   "metadata": {},
   "outputs": [],
   "source": [
    "df['lemmas_str'] = df['lemmas'].apply(lambda lemmas: ' '.join(lemmas))"
   ]
  },
  {
   "cell_type": "code",
   "execution_count": 11,
   "id": "bab3ee79",
   "metadata": {},
   "outputs": [],
   "source": [
    "# converting lemma to string---\n",
    "df['lemmas_str']"
   ]
  },
  {
   "cell_type": "code",
   "execution_count": 12,
   "id": "4d841e16",
   "metadata": {},
   "outputs": [],
   "source": [
    "\n",
    "# dictionary = corpora.Dictionary(df['lemmas'])"
   ]
  },
  {
   "cell_type": "code",
   "execution_count": 13,
   "id": "6ca2b08a",
   "metadata": {},
   "outputs": [],
   "source": [
    "# corpus = [dictionary.doc2bow(doc) for doc in df['lemmas']]"
   ]
  },
  {
   "cell_type": "code",
   "execution_count": 14,
   "id": "ed6e38bb",
   "metadata": {},
   "outputs": [],
   "source": [
    "# Train the LDA model\n",
    "# lda_model = models.LdaModel(corpus, num_topics=5, id2word=dictionary, passes=10)\n"
   ]
  },
  {
   "cell_type": "code",
   "execution_count": 15,
   "id": "17f7e5a8",
   "metadata": {},
   "outputs": [],
   "source": [
    "# Print the topics\n",
    "# topics = lda_model.show_topics()"
   ]
  },
  {
   "cell_type": "code",
   "execution_count": 16,
   "id": "1232f498",
   "metadata": {},
   "outputs": [],
   "source": [
    "# topics"
   ]
  },
  {
   "cell_type": "code",
   "execution_count": 17,
   "id": "1a9c9496",
   "metadata": {},
   "outputs": [],
   "source": [
    "df['lemmas'] = df['lemmas'].astype(str)\n"
   ]
  },
  {
   "cell_type": "code",
   "execution_count": null,
   "id": "1958c1d2",
   "metadata": {},
   "outputs": [],
   "source": [
    "model = BERTopic(language = \"english\")\n",
    "topics,probs = model.fit_transform(df['lemmas_str'])"
   ]
  },
  {
   "cell_type": "code",
   "execution_count": null,
   "id": "09e946c2",
   "metadata": {},
   "outputs": [],
   "source": [
    "model.get_topic_info()"
   ]
  },
  {
   "cell_type": "code",
   "execution_count": null,
   "id": "de803413",
   "metadata": {},
   "outputs": [],
   "source": [
    "model.visualize_barchart(top_n_topics=10)"
   ]
  },
  {
   "cell_type": "code",
   "execution_count": null,
   "id": "64dfdbd3",
   "metadata": {},
   "outputs": [],
   "source": [
    "model.visualize_heatmap()"
   ]
  },
  {
   "cell_type": "code",
   "execution_count": null,
   "id": "8c17598d",
   "metadata": {},
   "outputs": [],
   "source": [
    "model.visualize_hierarchy()"
   ]
  },
  {
   "cell_type": "code",
   "execution_count": null,
   "id": "4f4790f1",
   "metadata": {},
   "outputs": [],
   "source": [
    "model.visualize_distribution(probabilities)"
   ]
  },
  {
   "cell_type": "code",
   "execution_count": null,
   "id": "9c9a4cb2",
   "metadata": {},
   "outputs": [],
   "source": []
  }
 ],
 "metadata": {
  "kernelspec": {
   "display_name": "Python 3 (ipykernel)",
   "language": "python",
   "name": "python3"
  },
  "language_info": {
   "codemirror_mode": {
    "name": "ipython",
    "version": 3
   },
   "file_extension": ".py",
   "mimetype": "text/x-python",
   "name": "python",
   "nbconvert_exporter": "python",
   "pygments_lexer": "ipython3",
   "version": "3.9.11"
  }
 },
 "nbformat": 4,
 "nbformat_minor": 5
}
